{
 "cells": [
  {
   "cell_type": "markdown",
   "metadata": {},
   "source": [
    "# Keyrir Strætó of hratt?: Samanburður keyrsluhraðagagna frá Strætó API-inu við hámarkshraðagögn\n",
    "\n",
    "_**Árni Dagur Guðmundsson**: arni@dagur.eu | Menntaskólinn við Hamrahlíð_"
   ]
  },
  {
   "cell_type": "markdown",
   "metadata": {},
   "source": [
    "## Inngangur:"
   ]
  },
  {
   "cell_type": "markdown",
   "metadata": {},
   "source": [
    "### Open Street Map"
   ]
  },
  {
   "cell_type": "code",
   "execution_count": 1,
   "metadata": {
    "scrolled": false
   },
   "outputs": [],
   "source": [
    "from straeto.data import get_osm_data\n",
    "\n",
    "#get_osm_data(verbose=True)"
   ]
  },
  {
   "cell_type": "code",
   "execution_count": 2,
   "metadata": {
    "scrolled": false
   },
   "outputs": [
    {
     "name": "stdout",
     "output_type": "stream",
     "text": [
      "osm-data:\r\n",
      "gis_osm_roads_free_1.cpg  gis_osm_roads_free_1.prj  gis_osm_roads_free_1.shx\r\n",
      "gis_osm_roads_free_1.dbf  gis_osm_roads_free_1.shp  output\r\n",
      "\r\n",
      "osm-data/output:\r\n",
      "extracted_roads.cpg  extracted_roads.shx     no_extracted_roads.shp\r\n",
      "extracted_roads.dbf  no_extracted_roads.cpg  no_extracted_roads.shx\r\n",
      "extracted_roads.prj  no_extracted_roads.dbf\r\n",
      "extracted_roads.shp  no_extracted_roads.prj\r\n"
     ]
    }
   ],
   "source": [
    "!printf 'osm-data:\\n' && ls osm-data/ && printf '\\nosm-data/output:\\n' && ls osm-data/output"
   ]
  },
  {
   "cell_type": "code",
   "execution_count": null,
   "metadata": {},
   "outputs": [],
   "source": [
    "from straeto import straeto\n",
    "%matplotlib inline\n",
    "import matplotlib.pyplot as plt\n",
    "import cartopy.crs as ccrs\n",
    "\n",
    "fig, ax = straeto.get_map(region='reykjavik', res='f', zoom=1.5)\n",
    "\n",
    "ax = straeto.add_shapefile(ax, 'osm-data/output/extracted_roads.shp')\n",
    "ax = straeto.add_shapefile(ax, 'osm-data/output/no_extracted_roads.shp', edgecolor='red')\n",
    "\n",
    "plt.show()"
   ]
  },
  {
   "cell_type": "markdown",
   "metadata": {},
   "source": [
    "### API\n",
    "Falið í kóða heimasíðu Strætó má finna API (forritaskil) sem geyma ýmsar upplýsingar um staka strætisvagna í rauntíma. Strætó appið notar þetta API meðal annars til að sýna staðsetningu strætisvagna á korti. Ég bjó til einfaldan Python pakka sem kallar á API-ið og spýtir út niðurstöðunum í JSON. Hér fyrir neðan sést niðurstaða einfalds kalls:"
   ]
  },
  {
   "cell_type": "code",
   "execution_count": null,
   "metadata": {
    "scrolled": false
   },
   "outputs": [],
   "source": [
    "from straeto import api\n",
    "api.getBusPositionsFor([\"1\", \"55\"])[0]"
   ]
  },
  {
   "cell_type": "markdown",
   "metadata": {},
   "source": [
    "Eins og sést býður API-ið upp á breiddargráðu (_lat_), og lengdargráðu (_lon_). Því er til dæmis hægt að birta staðsetningu allra strætisvagna landsins á kort líkt og svo:"
   ]
  },
  {
   "cell_type": "code",
   "execution_count": null,
   "metadata": {},
   "outputs": [],
   "source": [
    "from datetime import datetime\n",
    "\n",
    "fig, ax = straeto.get_map(region='iceland')\n",
    "\n",
    "for bus in api.getAllBusPositions():\n",
    "    plt.plot(bus['lon'], bus['lat'], marker='o', color='red', markersize=2,\n",
    "             transform=ccrs.Geodetic())\n",
    "\n",
    "plt.title('Staðsetning allra strætisvagna þann {}'.format(datetime.now().strftime('%d-%m-%y kl. %H:%M:%S')))\n",
    "plt.show()"
   ]
  },
  {
   "cell_type": "markdown",
   "metadata": {},
   "source": [
    "Hraðinn er einnig til staðar en ekki vitum við þó hvaða mælieining notuð er til þess að mæla hann.\n",
    "\n",
    "$k\\cdot v_{api} = v \\Rightarrow k = \\frac{v}{v_{api}}$"
   ]
  },
  {
   "cell_type": "code",
   "execution_count": null,
   "metadata": {},
   "outputs": [],
   "source": [
    "from straeto import straeto\n",
    "bdict, p_bdict = straeto.getConsecutiveBuses(ratio=0.5)\n",
    "\n",
    "print(len(bdict),len(p_bdict))"
   ]
  },
  {
   "cell_type": "code",
   "execution_count": null,
   "metadata": {
    "scrolled": false
   },
   "outputs": [],
   "source": [
    "from geopy.distance import geodesic\n",
    "from datetime import datetime as dt\n",
    "G = []\n",
    "B = []\n",
    "Ks = []\n",
    "for key in bdict:\n",
    "    bus = bdict[key]; p_bus = p_bdict[key]\n",
    "    t_1 = dt.strptime(bus['gpsTime'],\"%y%m%d%H%M%S\"); t_2 = dt.strptime(p_bus['gpsTime'],\"%y%m%d%H%M%S\")\n",
    "    delta_t = (t_1-t_2).total_seconds()\n",
    "    delta_s = geodesic((bus['lat'], bus['lon']), (p_bus['lat'], p_bus['lon'])).km\n",
    "\n",
    "    kmh = (delta_s/delta_t)*3600\n",
    "    avg_speed = (1/2)*(bus['speed']+p_bus['speed'])\n",
    "\n",
    "    k = kmh/avg_speed\n",
    "    Ks.append(k)\n",
    "    dic = {\n",
    "        'speed_0': p_bus['speed'],\n",
    "        'speed_1': bus['speed'],\n",
    "        'delta_s': delta_s,\n",
    "        'delta_t': delta_t,\n",
    "        'kmh': kmh,\n",
    "        'avg_speed': avg_speed,\n",
    "        'route': bus['route'],\n",
    "        'k': k\n",
    "    }\n",
    "    if 1.7 < k < 1.9:\n",
    "        G.append(dic)\n",
    "    else:\n",
    "        B.append(dic)\n",
    "\n",
    "print('Good:')\n",
    "for i in G:\n",
    "    print('{} | k = {} / {} = {} | {} --> {}'.format(\n",
    "        i['route'], round(i['kmh'], 2), round(i['avg_speed'], 2), round(i['k'], 2), i['speed_0'], i['speed_1']\n",
    "    ))\n",
    "print('Bad:')\n",
    "for i in B:\n",
    "    print('{} | k = {} / {} = {} | {} --> {}'.format(\n",
    "        i['route'], round(i['kmh'], 2), round(i['avg_speed'], 2), round(i['k'], 2), i['speed_0'], i['speed_1']\n",
    "    ))\n",
    "avg_k = sum(Ks)/len(Ks)\n",
    "print(avg_k)\n"
   ]
  },
  {
   "cell_type": "markdown",
   "metadata": {},
   "source": [
    "## Undirbúningur gagna:\n",
    "Load sqlite files:\n",
    "```\n",
    "pgloader 25-03-2018.db postgresql:///straeto\n",
    "```\n",
    "Started 22:37\n",
    "```\n",
    "UPDATE buses b SET maxspeed = (SELECT r.maxspeed FROM roads r ORDER BY b.geom <-> r.geom LIMIT 1);\n",
    "```\n",
    "Aðeins hraðara: (37-39 sec með index)\n",
    "```\n",
    "UPDATE buses b SET maxspeed = (SELECT r.maxspeed FROM roads r WHERE ST_Expand(b.geom, 0.012) && r.geom ORDER BY b.geom <-> r.geom LIMIT 1);\n",
    "```"
   ]
  },
  {
   "cell_type": "code",
   "execution_count": null,
   "metadata": {},
   "outputs": [],
   "source": [
    "%alias sql psql straeto -c"
   ]
  },
  {
   "cell_type": "code",
   "execution_count": null,
   "metadata": {},
   "outputs": [],
   "source": [
    "sql \"\\dt\""
   ]
  },
  {
   "cell_type": "code",
   "execution_count": null,
   "metadata": {},
   "outputs": [],
   "source": [
    "#sql \"ALTER TABLE buses ADD COLUMN geom Geometry(Point, 4326);\""
   ]
  },
  {
   "cell_type": "code",
   "execution_count": null,
   "metadata": {},
   "outputs": [],
   "source": [
    "#sql \"UPDATE buses SET geom=ST_SetSrid(ST_MakePoint(lon, lat), 4326);\""
   ]
  },
  {
   "cell_type": "code",
   "execution_count": null,
   "metadata": {},
   "outputs": [],
   "source": [
    "#sql \"CREATE INDEX buses_gix ON buses USING gist(geom);\""
   ]
  },
  {
   "cell_type": "code",
   "execution_count": null,
   "metadata": {},
   "outputs": [],
   "source": [
    "#sql \"VACUUM ANALYZE;\""
   ]
  },
  {
   "cell_type": "code",
   "execution_count": null,
   "metadata": {},
   "outputs": [],
   "source": [
    "#sql \"ALTER TABLE buses ADD maxspeed integer;\""
   ]
  },
  {
   "cell_type": "markdown",
   "metadata": {},
   "source": [
    "## Úrvinnsla gagna:"
   ]
  },
  {
   "cell_type": "code",
   "execution_count": null,
   "metadata": {},
   "outputs": [],
   "source": [
    "import psycopg2 as pg\n",
    "import pandas as pd\n",
    "import pandas.io.sql as pd_sql\n",
    "\n",
    "connection = pg.connect(database='straeto',\n",
    "                        # Location of .s.PGSQL.5432 file;\n",
    "                        # try host='/tmp' if you get an error.\n",
    "                        host='/var/run/postgresql')\n",
    "df = pd_sql.read_sql(\"SELECT gps_time, route_number, lat, lon, speed, maxspeed FROM buses;\", connection)"
   ]
  },
  {
   "cell_type": "code",
   "execution_count": null,
   "metadata": {},
   "outputs": [],
   "source": [
    "df['gps_time'] = pd.to_datetime(df['gps_time'], format='%y%m%d%H%M%S')\n",
    "df['speed'] = df['speed']*1.85"
   ]
  },
  {
   "cell_type": "code",
   "execution_count": null,
   "metadata": {},
   "outputs": [],
   "source": [
    "df = df.set_index('gps_time')"
   ]
  },
  {
   "cell_type": "code",
   "execution_count": null,
   "metadata": {},
   "outputs": [],
   "source": [
    "df.head(3)"
   ]
  },
  {
   "cell_type": "code",
   "execution_count": null,
   "metadata": {},
   "outputs": [],
   "source": [
    "df = df.query('maxspeed > 0')\n",
    "df['ratio'] = df['speed']/df['maxspeed']"
   ]
  },
  {
   "cell_type": "code",
   "execution_count": null,
   "metadata": {},
   "outputs": [],
   "source": [
    "over = df.query('maxspeed < speed')\n",
    "under = df.query('maxspeed >= speed')"
   ]
  },
  {
   "cell_type": "code",
   "execution_count": null,
   "metadata": {},
   "outputs": [],
   "source": [
    "df.head(8)"
   ]
  },
  {
   "cell_type": "code",
   "execution_count": null,
   "metadata": {},
   "outputs": [],
   "source": [
    "print(len(over), len(under), round(len(over)*100/len(under), 1))"
   ]
  },
  {
   "cell_type": "code",
   "execution_count": null,
   "metadata": {},
   "outputs": [],
   "source": [
    "%matplotlib inline\n",
    "import numpy as np\n",
    "from scipy.stats import binned_statistic_2d\n",
    "from mpl_toolkits.axes_grid1 import make_axes_locatable\n",
    "\n",
    "x = df['lon']\n",
    "y = df['lat']\n",
    "ratios = df['ratio']\n",
    "\n",
    "fig, (ax, ax2) = straeto.get_map(region=[['reykjavik', 1.15], 'iceland'], res='f',\n",
    "                                 figsize=(14, 7), shape=(1, 2))\n",
    "\n",
    "# Heatmap\n",
    "vmin, vmax= 0.5, 1.5\n",
    "\n",
    "ax.set_title('Höfuðborgarsvæðið')\n",
    "heatmap, x_edges, y_edges, _ = binned_statistic_2d(x, y, ratios, bins=4000, statistic='mean')\n",
    "extent = [x_edges[0], x_edges[-1], y_edges[0], y_edges[-1]]\n",
    "im = ax.imshow(heatmap.T, cmap='seismic', vmin=vmin, vmax=vmax,\n",
    "               extent=extent, origin='lower', transform=ccrs.PlateCarree())\n",
    "\n",
    "ax2.set_title('Landsbyggðin')\n",
    "heatmap, x_edges, y_edges, _ = binned_statistic_2d(x, y, ratios, bins=50, statistic='mean')\n",
    "extent = [x_edges[0], x_edges[-1], y_edges[0], y_edges[-1]]\n",
    "im = ax2.imshow(heatmap.T, cmap='seismic', vmin=vmin, vmax=vmax,\n",
    "                extent=extent, origin='lower', transform=ccrs.PlateCarree())\n",
    "\n",
    "# Colourbar\n",
    "divider = make_axes_locatable(ax2)\n",
    "cax = divider.new_horizontal(size=\"5%\", pad=0.1, axes_class=plt.Axes)\n",
    "fig.add_axes(cax)\n",
    "cbar = fig.colorbar(im, cax=cax)\n",
    "cbar.set_label('$\\\\frac{v_{ekinn}}{v_{leyfilegur}}$', size=20)\n",
    "\n",
    "fig.suptitle('Hitakort hlutfalls ekins– og leyfilegs aksturshraða', size=16)\n",
    "fig.tight_layout()\n",
    "plt.subplots_adjust(top=1)\n",
    "plt.show()"
   ]
  }
 ],
 "metadata": {
  "kernelspec": {
   "display_name": "Python 3",
   "language": "python",
   "name": "python3"
  },
  "language_info": {
   "codemirror_mode": {
    "name": "ipython",
    "version": 3
   },
   "file_extension": ".py",
   "mimetype": "text/x-python",
   "name": "python",
   "nbconvert_exporter": "python",
   "pygments_lexer": "ipython3",
   "version": "3.6.4"
  }
 },
 "nbformat": 4,
 "nbformat_minor": 2
}
