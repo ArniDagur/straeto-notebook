{
 "cells": [
  {
   "cell_type": "markdown",
   "metadata": {},
   "source": [
    "# Keyrir Strætó of hratt?: Samanburður keyrsluhraðagagna frá Strætó API-inu við hámarkshraðagögn\n",
    "\n",
    "_**Árni Dagur Guðmundsson**: arni@dagur.eu | Menntaskólinn við Hamrahlíð_"
   ]
  },
  {
   "cell_type": "markdown",
   "metadata": {},
   "source": [
    "## Inngangur:\n",
    "\n",
    "### API\n",
    "Falið í kóða heimasíðu Strætó má finna API (forritaskil) sem geyma ýmsar upplýsingar um staka strætisvagna í rauntíma. Strætó appið notar þetta API meðal annars til að sýna staðsetningu strætisvagna á korti. Ég bjó til einfaldan Python pakka sem kallar á API-ið og spýtir út niðurstöðunum í JSON. Hér fyrir neðan sést niðurstaða einfalds kalls:"
   ]
  },
  {
   "cell_type": "code",
   "execution_count": 1,
   "metadata": {
    "scrolled": true
   },
   "outputs": [
    {
     "data": {
      "text/plain": [
       "{'deviceNumber': 34,\n",
       " 'route': '1-B',\n",
       " 'gpsTime': '180512164351',\n",
       " 'lat': 64.0638616666667,\n",
       " 'lon': -21.9490166666667,\n",
       " 'speed': 14.15,\n",
       " 'heading': 35.63,\n",
       " 'gpsFix': 2,\n",
       " 'routeNumber': '1',\n",
       " 'lastStop': 14001580,\n",
       " 'nextStop': 14001541,\n",
       " 'pingCode': 6}"
      ]
     },
     "execution_count": 1,
     "metadata": {},
     "output_type": "execute_result"
    }
   ],
   "source": [
    "from straeto import api\n",
    "api.getBusPositionsFor([\"1\"])[0]"
   ]
  },
  {
   "cell_type": "markdown",
   "metadata": {},
   "source": [
    "Eins og sést býður API-ið upp á breiddargráðu (_lat_), og lengdargráðu (_lon_). Því er til dæmis hægt að birta staðsetningu allra strætisvagna landsins á kort líkt og svo:"
   ]
  },
  {
   "cell_type": "code",
   "execution_count": 2,
   "metadata": {
    "scrolled": false
   },
   "outputs": [
    {
     "data": {
      "image/png": "[encoded data removed]",
      "text/plain": [
       "<Figure size 432x288 with 1 Axes>"
      ]
     },
     "metadata": {},
     "output_type": "display_data"
    }
   ],
   "source": [
    "%matplotlib inline\n",
    "import matplotlib.pyplot as plt\n",
    "from mpl_toolkits.basemap import Basemap\n",
    "import warnings; warnings.filterwarnings('ignore')\n",
    "from datetime import datetime\n",
    "\n",
    "map = Basemap(projection='merc', resolution='l',\n",
    "              urcrnrlat=66.8,urcrnrlon=-12.9,\n",
    "              llcrnrlat=63.2, llcrnrlon=-25)\n",
    "map.drawcoastlines(linewidth=0.35)\n",
    "map.fillcontinents(color='lightgrey', lake_color='#a7cdf2')\n",
    "map.drawmapboundary(fill_color='#a7cdf2')\n",
    "\n",
    "for bus in api.getAllBusPositions():\n",
    "    X, Y = map(bus['lon'], bus['lat'])\n",
    "    map.plot(X, Y, 'ro', markersize=2.5)\n",
    "\n",
    "plt.title('Staðsetning allra strætisvagna þann {}'.format(datetime.now().strftime('%d-%m-%y kl. %H:%M:%S')))\n",
    "plt.show()"
   ]
  },
  {
   "cell_type": "markdown",
   "metadata": {},
   "source": [
    "Hraðinn er einnig til staðar en ekki vitum við þó hvaða mælieining notuð er til þess að mæla hann.\n",
    "\n",
    "$k\\cdot v_{api} = v \\Rightarrow k = \\frac{v}{v_{api}}$"
   ]
  },
  {
   "cell_type": "code",
   "execution_count": 3,
   "metadata": {},
   "outputs": [
    {
     "name": "stdout",
     "output_type": "stream",
     "text": [
      "41 41\n"
     ]
    }
   ],
   "source": [
    "from straeto import straeto\n",
    "bdict, p_bdict = straeto.getConsecutiveBuses(ratio=0.5)\n",
    "\n",
    "print(len(bdict),len(p_bdict))"
   ]
  },
  {
   "cell_type": "code",
   "execution_count": 4,
   "metadata": {
    "scrolled": false
   },
   "outputs": [
    {
     "name": "stdout",
     "output_type": "stream",
     "text": [
      "Good:\n",
      "1-B | k = 25.47 / 14.37 = 1.77 | 14.15 --> 14.58\n",
      "15-D | k = 44.63 / 23.84 = 1.87 | 19.48 --> 28.21\n",
      "1-E | k = 19.77 / 10.64 = 1.86 | 10.75 --> 10.53\n",
      "13-B | k = 40.88 / 21.84 = 1.87 | 23.62 --> 20.06\n",
      "89-A | k = 66.21 / 35.31 = 1.87 | 33.27 --> 37.36\n",
      "18-C | k = 35.39 / 19.03 = 1.86 | 26.56 --> 11.5\n",
      "18-B | k = 73.56 / 39.12 = 1.88 | 37.84 --> 40.39\n",
      "14-A | k = 47.38 / 25.34 = 1.87 | 23.66 --> 27.02\n",
      "1-C | k = 23.08 / 13.37 = 1.73 | 12.36 --> 14.38\n",
      "57-A | k = 98.58 / 53.25 = 1.85 | 53.26 --> 53.25\n",
      "52-A | k = 88.04 / 47.58 = 1.85 | 48.47 --> 46.68\n",
      "57-B | k = 99.26 / 53.56 = 1.85 | 53.32 --> 53.8\n",
      "15-B | k = 28.87 / 16.48 = 1.75 | 21.39 --> 11.56\n",
      "2-C | k = 40.36 / 22.68 = 1.78 | 26.66 --> 18.69\n",
      "Bad:\n",
      "11-C | k = 23.36 / 9.48 = 2.47 | 16.62 --> 2.33\n",
      "51-E | k = 15.14 / 6.02 = 2.51 | 9.42 --> 2.62\n",
      "12-D | k = 65.92 / 34.3 = 1.92 | 34.81 --> 33.79\n",
      "15-C | k = 52.77 / 27.44 = 1.92 | 26.69 --> 28.19\n",
      "2-A | k = 57.17 / 29.98 = 1.91 | 29.28 --> 30.68\n",
      "4-D | k = 36.2 / 17.54 = 2.06 | 17.37 --> 17.71\n",
      "28-A | k = 40.95 / 18.4 = 2.23 | 22.26 --> 14.54\n",
      "2-D | k = 29.75 / 15.29 = 1.95 | 17.96 --> 12.62\n",
      "1-D | k = 58.64 / 24.56 = 2.39 | 33.87 --> 15.25\n",
      "A6 | k = 34.52 / 17.39 = 1.99 | 11.81 --> 22.97\n",
      "4-A | k = 19.88 / 12.69 = 1.57 | 18.57 --> 6.81\n",
      "5-C | k = 49.44 / 25.12 = 1.97 | 25.77 --> 24.47\n",
      "12-C | k = 64.58 / 33.67 = 1.92 | 28.39 --> 38.95\n",
      "21-A | k = 41.0 / 19.12 = 2.14 | 18.06 --> 20.19\n",
      "24-A | k = 31.92 / 16.14 = 1.98 | 19.05 --> 13.24\n",
      "12-B | k = 23.83 / 10.65 = 2.24 | 5.66 --> 15.64\n",
      "36-A | k = 35.85 / 18.37 = 1.95 | 16.09 --> 20.64\n",
      "23-A | k = 10.44 / 9.35 = 1.12 | 11.0 --> 7.69\n",
      "51-C | k = 58.33 / 29.9 = 1.95 | 31.67 --> 28.13\n",
      "3-A | k = 28.37 / 12.52 = 2.27 | 14.54 --> 10.51\n",
      "5-B | k = 25.19 / 12.8 = 1.97 | 6.17 --> 19.44\n",
      "57-D | k = 44.63 / 23.01 = 1.94 | 17.19 --> 28.82\n",
      "14-B | k = 24.85 / 20.2 = 1.23 | 20.17 --> 20.22\n",
      "21-B | k = 34.62 / 14.63 = 2.37 | 7.13 --> 22.14\n",
      "28-B | k = 28.44 / 12.95 = 2.2 | 5.52 --> 20.37\n",
      "15-A | k = 12.36 / 8.79 = 1.41 | 6.64 --> 10.94\n",
      "24-B | k = 37.84 / 18.84 = 2.01 | 17.46 --> 20.21\n",
      "1.93232266569626\n"
     ]
    }
   ],
   "source": [
    "from geopy.distance import geodesic\n",
    "from datetime import datetime as dt\n",
    "G = []\n",
    "B = []\n",
    "Ks = []\n",
    "for key in bdict:\n",
    "    bus = bdict[key]; p_bus = p_bdict[key]\n",
    "    t_1 = dt.strptime(bus['gpsTime'],\"%y%m%d%H%M%S\"); t_2 = dt.strptime(p_bus['gpsTime'],\"%y%m%d%H%M%S\")\n",
    "    delta_t = (t_1-t_2).total_seconds()\n",
    "    delta_s = geodesic((bus['lat'], bus['lon']), (p_bus['lat'], p_bus['lon'])).km\n",
    "\n",
    "    kmh = (delta_s/delta_t)*3600\n",
    "    avg_speed = (1/2)*(bus['speed']+p_bus['speed'])\n",
    "\n",
    "    k = kmh/avg_speed\n",
    "    Ks.append(k)\n",
    "    dic = {\n",
    "        'speed_0': p_bus['speed'],\n",
    "        'speed_1': bus['speed'],\n",
    "        'delta_s': delta_s,\n",
    "        'delta_t': delta_t,\n",
    "        'kmh': kmh,\n",
    "        'avg_speed': avg_speed,\n",
    "        'route': bus['route'],\n",
    "        'k': k\n",
    "    }\n",
    "    if 1.7 < k < 1.9:\n",
    "        G.append(dic)\n",
    "    else:\n",
    "        B.append(dic)\n",
    "\n",
    "print('Good:')\n",
    "for i in G:\n",
    "    print('{} | k = {} / {} = {} | {} --> {}'.format(\n",
    "        i['route'], round(i['kmh'], 2), round(i['avg_speed'], 2), round(i['k'], 2), i['speed_0'], i['speed_1']\n",
    "    ))\n",
    "print('Bad:')\n",
    "for i in B:\n",
    "    print('{} | k = {} / {} = {} | {} --> {}'.format(\n",
    "        i['route'], round(i['kmh'], 2), round(i['avg_speed'], 2), round(i['k'], 2), i['speed_0'], i['speed_1']\n",
    "    ))\n",
    "avg_k = sum(Ks)/len(Ks)\n",
    "print(avg_k)\n"
   ]
  },
  {
   "cell_type": "markdown",
   "metadata": {},
   "source": [
    "## Undirbúningur gagna:\n",
    "\n",
    "```\n",
    "ALTER TABLE buses ADD COLUMN geom Geometry(Point, 4326);\n",
    "```\n",
    "svo:\n",
    "```\n",
    "UPDATE buses SET geom=ST_SetSrid(ST_MakePoint(lon, lat), 4326);\n",
    "```\n",
    "\n",
    "```\n",
    "SELECT r.maxspeed FROM roads r, buses b WHERE ST_DWithin(b.geom, r.geom, 8) ORDER BY ST_Distance(r.geom, b.geom);\n",
    "```"
   ]
  },
  {
   "cell_type": "code",
   "execution_count": 5,
   "metadata": {
    "scrolled": false
   },
   "outputs": [
    {
     "name": "stdout",
     "output_type": "stream",
     "text": [
      "extract_roads  readme.md  straeto  straeto-notebook.ipynb\r\n"
     ]
    }
   ],
   "source": [
    "!ls"
   ]
  }
 ],
 "metadata": {
  "kernelspec": {
   "display_name": "Python 3",
   "language": "python",
   "name": "python3"
  },
  "language_info": {
   "codemirror_mode": {
    "name": "ipython",
    "version": 3
   },
   "file_extension": ".py",
   "mimetype": "text/x-python",
   "name": "python",
   "nbconvert_exporter": "python",
   "pygments_lexer": "ipython3",
   "version": "3.6.4"
  }
 },
 "nbformat": 4,
 "nbformat_minor": 2
}
