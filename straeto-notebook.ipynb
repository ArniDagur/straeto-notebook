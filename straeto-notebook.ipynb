{
 "cells": [
  {
   "cell_type": "markdown",
   "metadata": {},
   "source": [
    "# Keyrir Strætó of hratt?: Samanburður keyrsluhraðagagna frá Strætó API-inu við hámarkshraðagögn\n",
    "\n",
    "_**Árni Dagur Guðmundsson**: arni@dagur.eu | Menntaskólinn við Hamrahlíð_"
   ]
  },
  {
   "cell_type": "markdown",
   "metadata": {},
   "source": [
    "## Inngangur:\n",
    "\n",
    "### API\n",
    "Falið í kóða heimasíðu Strætó má finna API (forritaskil) sem geyma ýmsar upplýsingar um staka strætisvagna í rauntíma. Strætó appið notar þetta API meðal annars til að sýna staðsetningu strætisvagna á korti. Ég bjó til einfaldan Python pakka sem kallar á API-ið og spýtir út niðurstöðunum í JSON. Hér fyrir neðan sést niðurstaða einfalds kalls:"
   ]
  },
  {
   "cell_type": "code",
   "execution_count": 1,
   "metadata": {
    "scrolled": true
   },
   "outputs": [
    {
     "data": {
      "text/plain": [
       "{'deviceNumber': 208,\n",
       " 'route': '55-A',\n",
       " 'gpsTime': '180512163353',\n",
       " 'lat': 63.999095,\n",
       " 'lon': -22.5573666666667,\n",
       " 'speed': 24.38,\n",
       " 'heading': 329.06,\n",
       " 'gpsFix': 2,\n",
       " 'routeNumber': '55',\n",
       " 'lastStop': 20000134,\n",
       " 'nextStop': 20000022,\n",
       " 'pingCode': 6}"
      ]
     },
     "execution_count": 1,
     "metadata": {},
     "output_type": "execute_result"
    }
   ],
   "source": [
    "from straeto import api\n",
    "api.getBusPositionsFor([\"55\"])[0]"
   ]
  },
  {
   "cell_type": "markdown",
   "metadata": {},
   "source": [
    "Eins og sést býður API-ið upp á breiddargráðu (_lat_), og lengdargráðu (_lon_). Því er til dæmis hægt að birta staðsetningu allra strætisvagna landsins á kort líkt og svo:"
   ]
  },
  {
   "cell_type": "code",
   "execution_count": 2,
   "metadata": {
    "scrolled": false
   },
   "outputs": [
    {
     "data": {
      "image/png": "[encoded data removed]",
      "text/plain": [
       "<Figure size 432x288 with 1 Axes>"
      ]
     },
     "metadata": {},
     "output_type": "display_data"
    }
   ],
   "source": [
    "%matplotlib inline\n",
    "import matplotlib.pyplot as plt\n",
    "from mpl_toolkits.basemap import Basemap\n",
    "import warnings; warnings.filterwarnings('ignore')\n",
    "from datetime import datetime\n",
    "\n",
    "map = Basemap(projection='merc', resolution='l',\n",
    "              urcrnrlat=66.8,urcrnrlon=-12.9,\n",
    "              llcrnrlat=63.2, llcrnrlon=-25)\n",
    "map.drawcoastlines(linewidth=0.35)\n",
    "map.fillcontinents(color='lightgrey', lake_color='#a7cdf2')\n",
    "map.drawmapboundary(fill_color='#a7cdf2')\n",
    "\n",
    "for bus in api.getAllBusPositions():\n",
    "    X, Y = map(bus['lon'], bus['lat'])\n",
    "    map.plot(X, Y, 'ro', markersize=2.5)\n",
    "\n",
    "plt.title('Staðsetning allra strætisvagna þann {}'.format(datetime.now().strftime('%d-%m-%y kl. %H:%M:%S')))\n",
    "plt.show()"
   ]
  },
  {
   "cell_type": "markdown",
   "metadata": {},
   "source": [
    "Hraðinn er einnig til staðar en ekki vitum við þó hvaða mælieining notuð er til þess að mæla hann.\n",
    "\n",
    "$k\\cdot v_{api} = v \\Rightarrow k = \\frac{v}{v_{api}}$"
   ]
  },
  {
   "cell_type": "code",
   "execution_count": null,
   "metadata": {},
   "outputs": [],
   "source": [
    "from straeto import straeto\n",
    "bdict, p_bdict = straeto.getConsecutiveBuses(ratio=0.5)\n",
    "\n",
    "print(len(bdict),len(p_bdict))"
   ]
  },
  {
   "cell_type": "code",
   "execution_count": 4,
   "metadata": {
    "scrolled": false
   },
   "outputs": [
    {
     "name": "stdout",
     "output_type": "stream",
     "text": [
      "Good:\n",
      "14-C | k = 27.81 / 15.85 = 1.75 | 9.85 --> 21.85\n",
      "52-A | k = 57.85 / 30.63 = 1.89 | 27.12 --> 34.14\n",
      "4-D | k = 14.55 / 7.96 = 1.83 | 8.37 --> 7.54\n",
      "1-A | k = 19.03 / 11.08 = 1.72 | 10.18 --> 11.98\n",
      "A6 | k = 31.41 / 17.37 = 1.81 | 16.43 --> 18.31\n",
      "5-B | k = 33.84 / 17.86 = 1.9 | 11.55 --> 24.16\n",
      "57-D | k = 10.7 / 6.04 = 1.77 | 5.69 --> 6.4\n",
      "51-E | k = 87.0 / 47.22 = 1.84 | 47.13 --> 47.31\n",
      "57-A | k = 95.0 / 51.97 = 1.83 | 52.1 --> 51.84\n",
      "23-A | k = 31.05 / 17.38 = 1.79 | 24.15 --> 10.62\n",
      "57-B | k = 98.7 / 54.49 = 1.81 | 55.36 --> 53.62\n",
      "3-C | k = 35.3 / 20.73 = 1.7 | 18.16 --> 23.3\n",
      "55-A | k = 26.51 / 14.5 = 1.83 | 24.38 --> 4.63\n",
      "Bad:\n",
      "1-B | k = 27.34 / 8.15 = 3.35 | 11.28 --> 5.03\n",
      "17-A | k = 15.49 / 9.96 = 1.56 | 9.93 --> 9.98\n",
      "28-A | k = 16.25 / 15.29 = 1.06 | 12.63 --> 17.95\n",
      "1-E | k = 20.65 / 10.72 = 1.93 | 10.76 --> 10.69\n",
      "43-B | k = 29.14 / 15.07 = 1.93 | 12.77 --> 17.38\n",
      "15-B | k = 76.44 / 39.28 = 1.95 | 33.22 --> 45.34\n",
      "2-C | k = 23.19 / 11.23 = 2.06 | 5.9 --> 16.57\n",
      "21-A | k = 36.99 / 18.19 = 2.03 | 16.66 --> 19.72\n",
      "18-C | k = 63.52 / 33.43 = 1.9 | 23.99 --> 42.87\n",
      "21-B | k = 24.73 / 16.67 = 1.48 | 11.68 --> 21.66\n",
      "15-A | k = 41.89 / 21.54 = 1.94 | 21.04 --> 22.04\n",
      "24-B | k = 24.26 / 16.64 = 1.46 | 17.48 --> 15.8\n",
      "24-C | k = 32.35 / 16.58 = 1.95 | 6.47 --> 26.69\n",
      "12-D | k = 35.6 / 12.71 = 2.8 | 22.8 --> 2.63\n",
      "2-B | k = 41.73 / 21.18 = 1.97 | 16.53 --> 25.82\n",
      "6-A | k = 54.21 / 26.77 = 2.02 | 25.62 --> 27.92\n",
      "12-C | k = 33.98 / 20.13 = 1.69 | 21.3 --> 18.97\n",
      "43-A | k = 41.85 / 21.77 = 1.92 | 27.55 --> 15.99\n",
      "3-B | k = 40.46 / 18.41 = 2.2 | 25.25 --> 11.58\n",
      "24-A | k = 40.81 / 19.69 = 2.07 | 22.78 --> 16.6\n",
      "17-B | k = 30.38 / 14.56 = 2.09 | 5.17 --> 23.95\n",
      "14-A | k = 9.79 / 10.16 = 0.96 | 8.25 --> 12.07\n",
      "1.8799559461197062\n"
     ]
    }
   ],
   "source": [
    "from geopy.distance import geodesic\n",
    "from datetime import datetime as dt\n",
    "G = []\n",
    "B = []\n",
    "Ks = []\n",
    "for key in bdict:\n",
    "    bus = bdict[key]; p_bus = p_bdict[key]\n",
    "    t_1 = dt.strptime(bus['gpsTime'],\"%y%m%d%H%M%S\"); t_2 = dt.strptime(p_bus['gpsTime'],\"%y%m%d%H%M%S\")\n",
    "    delta_t = (t_1-t_2).total_seconds()\n",
    "    delta_s = geodesic((bus['lat'], bus['lon']), (p_bus['lat'], p_bus['lon'])).km\n",
    "\n",
    "    kmh = (delta_s/delta_t)*3600\n",
    "    avg_speed = (1/2)*(bus['speed']+p_bus['speed'])\n",
    "\n",
    "    k = kmh/avg_speed\n",
    "    Ks.append(k)\n",
    "    dic = {\n",
    "        'speed_0': p_bus['speed'],\n",
    "        'speed_1': bus['speed'],\n",
    "        'delta_s': delta_s,\n",
    "        'delta_t': delta_t,\n",
    "        'kmh': kmh,\n",
    "        'avg_speed': avg_speed,\n",
    "        'route': bus['route'],\n",
    "        'k': k\n",
    "    }\n",
    "    if 1.7 < k < 1.9:\n",
    "        G.append(dic)\n",
    "    else:\n",
    "        B.append(dic)\n",
    "\n",
    "print('Good:')\n",
    "for i in G:\n",
    "    print('{} | k = {} / {} = {} | {} --> {}'.format(\n",
    "        i['route'], round(i['kmh'], 2), round(i['avg_speed'], 2), round(i['k'], 2), i['speed_0'], i['speed_1']\n",
    "    ))\n",
    "print('Bad:')\n",
    "for i in B:\n",
    "    print('{} | k = {} / {} = {} | {} --> {}'.format(\n",
    "        i['route'], round(i['kmh'], 2), round(i['avg_speed'], 2), round(i['k'], 2), i['speed_0'], i['speed_1']\n",
    "    ))\n",
    "avg_k = sum(Ks)/len(Ks)\n",
    "print(avg_k)\n"
   ]
  },
  {
   "cell_type": "markdown",
   "metadata": {},
   "source": [
    "## Undirbúningur gagna:\n",
    "\n",
    "```\n",
    "ALTER TABLE buses ADD COLUMN geom Geometry(Point, 4326);\n",
    "```\n",
    "svo:\n",
    "```\n",
    "UPDATE buses SET geom=ST_SetSrid(ST_MakePoint(lon, lat), 4326);\n",
    "```\n",
    "\n",
    "```\n",
    "SELECT r.maxspeed FROM roads r, buses b WHERE ST_DWithin(b.geom, r.geom, 8) ORDER BY ST_Distance(r.geom, b.geom);\n",
    "```"
   ]
  },
  {
   "cell_type": "code",
   "execution_count": 5,
   "metadata": {
    "scrolled": false
   },
   "outputs": [
    {
     "name": "stdout",
     "output_type": "stream",
     "text": [
      "extract_roads  readme.md  straeto  straeto-notebook.ipynb\r\n"
     ]
    }
   ],
   "source": [
    "!ls"
   ]
  }
 ],
 "metadata": {
  "kernelspec": {
   "display_name": "Python 3",
   "language": "python",
   "name": "python3"
  },
  "language_info": {
   "codemirror_mode": {
    "name": "ipython",
    "version": 3
   },
   "file_extension": ".py",
   "mimetype": "text/x-python",
   "name": "python",
   "nbconvert_exporter": "python",
   "pygments_lexer": "ipython3",
   "version": "3.6.4"
  }
 },
 "nbformat": 4,
 "nbformat_minor": 2
}
